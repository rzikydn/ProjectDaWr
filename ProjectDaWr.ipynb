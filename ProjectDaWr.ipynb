{
 "cells": [
  {
   "cell_type": "code",
   "execution_count": 3,
   "id": "55ca3148-31a6-4999-8108-42bf1b025519",
   "metadata": {},
   "outputs": [
    {
     "data": {
      "text/html": [
       "<div>\n",
       "<style scoped>\n",
       "    .dataframe tbody tr th:only-of-type {\n",
       "        vertical-align: middle;\n",
       "    }\n",
       "\n",
       "    .dataframe tbody tr th {\n",
       "        vertical-align: top;\n",
       "    }\n",
       "\n",
       "    .dataframe thead th {\n",
       "        text-align: right;\n",
       "    }\n",
       "</style>\n",
       "<table border=\"1\" class=\"dataframe\">\n",
       "  <thead>\n",
       "    <tr style=\"text-align: right;\">\n",
       "      <th></th>\n",
       "      <th>No</th>\n",
       "      <th>Nama Kecamatan</th>\n",
       "      <th>Nama Kelurahan</th>\n",
       "      <th>Demografik</th>\n",
       "      <th>Jumlah</th>\n",
       "    </tr>\n",
       "  </thead>\n",
       "  <tbody>\n",
       "    <tr>\n",
       "      <th>0</th>\n",
       "      <td>1</td>\n",
       "      <td>CEMPAKA PUTIH</td>\n",
       "      <td>CEMPAKA PUTIH TIMUR</td>\n",
       "      <td>LAKI-LAKI 35–39</td>\n",
       "      <td>3245</td>\n",
       "    </tr>\n",
       "    <tr>\n",
       "      <th>1</th>\n",
       "      <td>2</td>\n",
       "      <td>CEMPAKA PUTIH</td>\n",
       "      <td>CEMPAKA PUTIH TIMUR</td>\n",
       "      <td>PEREMPUAN 35–39</td>\n",
       "      <td>2345</td>\n",
       "    </tr>\n",
       "    <tr>\n",
       "      <th>2</th>\n",
       "      <td>3</td>\n",
       "      <td>kEMAYORAN</td>\n",
       "      <td>RAWASARI</td>\n",
       "      <td>LAKI-LAKI 35–39</td>\n",
       "      <td>3111</td>\n",
       "    </tr>\n",
       "    <tr>\n",
       "      <th>3</th>\n",
       "      <td>4</td>\n",
       "      <td>KEMAYORAN</td>\n",
       "      <td>RAWASARI</td>\n",
       "      <td>PEREMPUAN 35–39</td>\n",
       "      <td>2234</td>\n",
       "    </tr>\n",
       "    <tr>\n",
       "      <th>4</th>\n",
       "      <td>5</td>\n",
       "      <td>GAMBIR</td>\n",
       "      <td>CIDENG</td>\n",
       "      <td>LAKI-LAKI 35–39</td>\n",
       "      <td>2980</td>\n",
       "    </tr>\n",
       "  </tbody>\n",
       "</table>\n",
       "</div>"
      ],
      "text/plain": [
       "   No Nama Kecamatan       Nama Kelurahan       Demografik  Jumlah\n",
       "0   1  CEMPAKA PUTIH  CEMPAKA PUTIH TIMUR  LAKI-LAKI 35–39    3245\n",
       "1   2  CEMPAKA PUTIH  CEMPAKA PUTIH TIMUR  PEREMPUAN 35–39    2345\n",
       "2   3      kEMAYORAN             RAWASARI  LAKI-LAKI 35–39    3111\n",
       "3   4      KEMAYORAN             RAWASARI  PEREMPUAN 35–39    2234\n",
       "4   5         GAMBIR               CIDENG  LAKI-LAKI 35–39    2980"
      ]
     },
     "execution_count": 3,
     "metadata": {},
     "output_type": "execute_result"
    }
   ],
   "source": [
    "import pandas as pd\n",
    "\n",
    "df = pd.read_excel(\"kependudukan_dki.xlsx\")\n",
    "\n",
    "df.head()"
   ]
  },
  {
   "cell_type": "code",
   "execution_count": 5,
   "id": "2a780a3d-e4f4-4ff6-92a1-3d710515c0f1",
   "metadata": {},
   "outputs": [
    {
     "name": "stdout",
     "output_type": "stream",
     "text": [
      "<class 'pandas.core.frame.DataFrame'>\n",
      "RangeIndex: 18 entries, 0 to 17\n",
      "Data columns (total 5 columns):\n",
      " #   Column          Non-Null Count  Dtype \n",
      "---  ------          --------------  ----- \n",
      " 0   No              18 non-null     int64 \n",
      " 1   Nama Kecamatan  18 non-null     object\n",
      " 2   Nama Kelurahan  18 non-null     object\n",
      " 3   Demografik      18 non-null     object\n",
      " 4   Jumlah          18 non-null     int64 \n",
      "dtypes: int64(2), object(3)\n",
      "memory usage: 852.0+ bytes\n"
     ]
    }
   ],
   "source": [
    "df.info()"
   ]
  },
  {
   "cell_type": "code",
   "execution_count": 16,
   "id": "ab064468-86a4-4464-aaa4-a3cf01efccb6",
   "metadata": {},
   "outputs": [],
   "source": [
    "df['Nama Kecamatan'] = df['Nama Kecamatan'].str.strip().str.upper()\n",
    "df['Nama Kelurahan'] = df['Nama Kelurahan'].str.strip().str.upper()\n"
   ]
  },
  {
   "cell_type": "code",
   "execution_count": 17,
   "id": "211dc093-f139-4c41-b962-378480c05f2a",
   "metadata": {},
   "outputs": [
    {
     "data": {
      "text/plain": [
       "np.int64(0)"
      ]
     },
     "execution_count": 17,
     "metadata": {},
     "output_type": "execute_result"
    }
   ],
   "source": [
    "df.duplicated().sum()"
   ]
  },
  {
   "cell_type": "code",
   "execution_count": 18,
   "id": "66d1064c-fe44-4584-82f9-9b96969e411d",
   "metadata": {},
   "outputs": [],
   "source": [
    "df = df.drop_duplicates()"
   ]
  },
  {
   "cell_type": "code",
   "execution_count": 19,
   "id": "0f446804-a916-4aa4-bf3b-014b38d786c9",
   "metadata": {},
   "outputs": [
    {
     "data": {
      "text/plain": [
       "No                0\n",
       "Nama Kecamatan    0\n",
       "Nama Kelurahan    0\n",
       "Demografik        0\n",
       "Jumlah            0\n",
       "dtype: int64"
      ]
     },
     "execution_count": 19,
     "metadata": {},
     "output_type": "execute_result"
    }
   ],
   "source": [
    "df.isnull().sum()"
   ]
  },
  {
   "cell_type": "code",
   "execution_count": 23,
   "id": "33520c47-812f-4306-bac9-9e4c00e26ad5",
   "metadata": {},
   "outputs": [
    {
     "name": "stdout",
     "output_type": "stream",
     "text": [
      "Nilai Minimum: 123\n",
      "Nilai Maksimum: 3245\n",
      "Rata-rata: 2181.3333333333335\n"
     ]
    }
   ],
   "source": [
    "print(\"Nilai Minimum:\", df['Jumlah'].min())\n",
    "print(\"Nilai Maksimum:\", df['Jumlah'].max())\n",
    "print(\"Rata-rata:\", df['Jumlah'].mean())"
   ]
  },
  {
   "cell_type": "code",
   "execution_count": 35,
   "id": "70ac128a-d8eb-488c-a1fa-af920601ba63",
   "metadata": {},
   "outputs": [
    {
     "data": {
      "text/plain": [
       "<bound method Series.reset_index of Nama Kecamatan\n",
       "CEMPAKA PUTIH      8835\n",
       "GAMBIR             5000\n",
       "KEMAYORAN          5345\n",
       "KEP. SERIBU UTR    2800\n",
       "KOJA                454\n",
       "PADEMANGAN         7000\n",
       "SAWAH BESAR        4300\n",
       "TANAH ABANG        5530\n",
       "Name: Jumlah, dtype: int64>"
      ]
     },
     "execution_count": 35,
     "metadata": {},
     "output_type": "execute_result"
    }
   ],
   "source": [
    "grouped = df.groupby('Nama Kecamatan')['Jumlah'].sum().reset_index\n",
    "grouped"
   ]
  },
  {
   "cell_type": "code",
   "execution_count": 37,
   "id": "3b376725-c135-45c9-8c4c-f443b5db992b",
   "metadata": {},
   "outputs": [
    {
     "name": "stdout",
     "output_type": "stream",
     "text": [
      "Total Hasil 39264\n"
     ]
    }
   ],
   "source": [
    "print(\"Total Hasil\", df['Jumlah'].sum())"
   ]
  },
  {
   "cell_type": "code",
   "execution_count": 42,
   "id": "11bd9e5a-0086-4511-a72e-f1e6e32ca2d9",
   "metadata": {},
   "outputs": [],
   "source": [
    "pd.set_option('display.max_rows',None)"
   ]
  },
  {
   "cell_type": "code",
   "execution_count": 43,
   "id": "90e65793-df11-45fd-bfa5-d5fa20af3e88",
   "metadata": {},
   "outputs": [
    {
     "data": {
      "text/html": [
       "<div>\n",
       "<style scoped>\n",
       "    .dataframe tbody tr th:only-of-type {\n",
       "        vertical-align: middle;\n",
       "    }\n",
       "\n",
       "    .dataframe tbody tr th {\n",
       "        vertical-align: top;\n",
       "    }\n",
       "\n",
       "    .dataframe thead th {\n",
       "        text-align: right;\n",
       "    }\n",
       "</style>\n",
       "<table border=\"1\" class=\"dataframe\">\n",
       "  <thead>\n",
       "    <tr style=\"text-align: right;\">\n",
       "      <th></th>\n",
       "      <th>No</th>\n",
       "      <th>Nama Kecamatan</th>\n",
       "      <th>Nama Kelurahan</th>\n",
       "      <th>Demografik</th>\n",
       "      <th>Jumlah</th>\n",
       "    </tr>\n",
       "  </thead>\n",
       "  <tbody>\n",
       "    <tr>\n",
       "      <th>0</th>\n",
       "      <td>1</td>\n",
       "      <td>CEMPAKA PUTIH</td>\n",
       "      <td>CEMPAKA PUTIH TIMUR</td>\n",
       "      <td>LAKI-LAKI 35–39</td>\n",
       "      <td>3245</td>\n",
       "    </tr>\n",
       "    <tr>\n",
       "      <th>1</th>\n",
       "      <td>2</td>\n",
       "      <td>CEMPAKA PUTIH</td>\n",
       "      <td>CEMPAKA PUTIH TIMUR</td>\n",
       "      <td>PEREMPUAN 35–39</td>\n",
       "      <td>2345</td>\n",
       "    </tr>\n",
       "    <tr>\n",
       "      <th>2</th>\n",
       "      <td>3</td>\n",
       "      <td>KEMAYORAN</td>\n",
       "      <td>RAWASARI</td>\n",
       "      <td>LAKI-LAKI 35–39</td>\n",
       "      <td>3111</td>\n",
       "    </tr>\n",
       "    <tr>\n",
       "      <th>3</th>\n",
       "      <td>4</td>\n",
       "      <td>KEMAYORAN</td>\n",
       "      <td>RAWASARI</td>\n",
       "      <td>PEREMPUAN 35–39</td>\n",
       "      <td>2234</td>\n",
       "    </tr>\n",
       "    <tr>\n",
       "      <th>4</th>\n",
       "      <td>5</td>\n",
       "      <td>GAMBIR</td>\n",
       "      <td>CIDENG</td>\n",
       "      <td>LAKI-LAKI 35–39</td>\n",
       "      <td>2980</td>\n",
       "    </tr>\n",
       "    <tr>\n",
       "      <th>5</th>\n",
       "      <td>6</td>\n",
       "      <td>GAMBIR</td>\n",
       "      <td>CIDENG</td>\n",
       "      <td>PEREMPUAN 35–39</td>\n",
       "      <td>2020</td>\n",
       "    </tr>\n",
       "    <tr>\n",
       "      <th>6</th>\n",
       "      <td>7</td>\n",
       "      <td>KOJA</td>\n",
       "      <td>TUGU SELATAN</td>\n",
       "      <td>LAKI-LAKI 35–39</td>\n",
       "      <td>331</td>\n",
       "    </tr>\n",
       "    <tr>\n",
       "      <th>7</th>\n",
       "      <td>8</td>\n",
       "      <td>KOJA</td>\n",
       "      <td>TUGU SELATAN</td>\n",
       "      <td>PEREMPUAN 35–39</td>\n",
       "      <td>123</td>\n",
       "    </tr>\n",
       "    <tr>\n",
       "      <th>8</th>\n",
       "      <td>9</td>\n",
       "      <td>PADEMANGAN</td>\n",
       "      <td>PADEMANGAN TIMUR</td>\n",
       "      <td>LAKI-LAKI 35–39</td>\n",
       "      <td>3000</td>\n",
       "    </tr>\n",
       "    <tr>\n",
       "      <th>9</th>\n",
       "      <td>10</td>\n",
       "      <td>PADEMANGAN</td>\n",
       "      <td>PADEMANGAN TIMUR</td>\n",
       "      <td>PEREMPUAN 35–39</td>\n",
       "      <td>2000</td>\n",
       "    </tr>\n",
       "    <tr>\n",
       "      <th>10</th>\n",
       "      <td>11</td>\n",
       "      <td>KEP. SERIBU UTR</td>\n",
       "      <td>PULAU TIDUNG</td>\n",
       "      <td>LAKI-LAKI 35–39</td>\n",
       "      <td>1500</td>\n",
       "    </tr>\n",
       "    <tr>\n",
       "      <th>11</th>\n",
       "      <td>12</td>\n",
       "      <td>KEP. SERIBU UTR</td>\n",
       "      <td>PULAU TIDUNG</td>\n",
       "      <td>PEREMPUAN 35–39</td>\n",
       "      <td>1300</td>\n",
       "    </tr>\n",
       "    <tr>\n",
       "      <th>12</th>\n",
       "      <td>13</td>\n",
       "      <td>SAWAH BESAR</td>\n",
       "      <td>MANGGA DUA SELATAN</td>\n",
       "      <td>LAKI-LAKI 35–39</td>\n",
       "      <td>2200</td>\n",
       "    </tr>\n",
       "    <tr>\n",
       "      <th>13</th>\n",
       "      <td>14</td>\n",
       "      <td>SAWAH BESAR</td>\n",
       "      <td>MANGGA DUA SELATAN</td>\n",
       "      <td>PEREMPUAN 35–39</td>\n",
       "      <td>2100</td>\n",
       "    </tr>\n",
       "    <tr>\n",
       "      <th>14</th>\n",
       "      <td>15</td>\n",
       "      <td>TANAH ABANG</td>\n",
       "      <td>PETAMBURAN</td>\n",
       "      <td>LAKI-LAKI 35–39</td>\n",
       "      <td>3240</td>\n",
       "    </tr>\n",
       "    <tr>\n",
       "      <th>15</th>\n",
       "      <td>16</td>\n",
       "      <td>TANAH ABANG</td>\n",
       "      <td>PETAMBURAN</td>\n",
       "      <td>PEREMPUAN 35–39</td>\n",
       "      <td>2290</td>\n",
       "    </tr>\n",
       "    <tr>\n",
       "      <th>16</th>\n",
       "      <td>17</td>\n",
       "      <td>CEMPAKA PUTIH</td>\n",
       "      <td>CEMPAKA PUTIH TIMUR</td>\n",
       "      <td>LAKI-LAKI 35–39</td>\n",
       "      <td>3245</td>\n",
       "    </tr>\n",
       "    <tr>\n",
       "      <th>17</th>\n",
       "      <td>18</td>\n",
       "      <td>PADEMANGAN</td>\n",
       "      <td>PADEMANGAN TIMUR</td>\n",
       "      <td>PEREMPUAN 35–39</td>\n",
       "      <td>2000</td>\n",
       "    </tr>\n",
       "  </tbody>\n",
       "</table>\n",
       "</div>"
      ],
      "text/plain": [
       "    No   Nama Kecamatan       Nama Kelurahan       Demografik  Jumlah\n",
       "0    1    CEMPAKA PUTIH  CEMPAKA PUTIH TIMUR  LAKI-LAKI 35–39    3245\n",
       "1    2    CEMPAKA PUTIH  CEMPAKA PUTIH TIMUR  PEREMPUAN 35–39    2345\n",
       "2    3        KEMAYORAN             RAWASARI  LAKI-LAKI 35–39    3111\n",
       "3    4        KEMAYORAN             RAWASARI  PEREMPUAN 35–39    2234\n",
       "4    5           GAMBIR               CIDENG  LAKI-LAKI 35–39    2980\n",
       "5    6           GAMBIR               CIDENG  PEREMPUAN 35–39    2020\n",
       "6    7             KOJA         TUGU SELATAN  LAKI-LAKI 35–39     331\n",
       "7    8             KOJA         TUGU SELATAN  PEREMPUAN 35–39     123\n",
       "8    9       PADEMANGAN     PADEMANGAN TIMUR  LAKI-LAKI 35–39    3000\n",
       "9   10       PADEMANGAN     PADEMANGAN TIMUR  PEREMPUAN 35–39    2000\n",
       "10  11  KEP. SERIBU UTR         PULAU TIDUNG  LAKI-LAKI 35–39    1500\n",
       "11  12  KEP. SERIBU UTR         PULAU TIDUNG  PEREMPUAN 35–39    1300\n",
       "12  13      SAWAH BESAR   MANGGA DUA SELATAN  LAKI-LAKI 35–39    2200\n",
       "13  14      SAWAH BESAR   MANGGA DUA SELATAN  PEREMPUAN 35–39    2100\n",
       "14  15      TANAH ABANG           PETAMBURAN  LAKI-LAKI 35–39    3240\n",
       "15  16      TANAH ABANG           PETAMBURAN  PEREMPUAN 35–39    2290\n",
       "16  17    CEMPAKA PUTIH  CEMPAKA PUTIH TIMUR  LAKI-LAKI 35–39    3245\n",
       "17  18       PADEMANGAN     PADEMANGAN TIMUR  PEREMPUAN 35–39    2000"
      ]
     },
     "execution_count": 43,
     "metadata": {},
     "output_type": "execute_result"
    }
   ],
   "source": [
    "df"
   ]
  },
  {
   "cell_type": "code",
   "execution_count": null,
   "id": "127a2702-078a-4861-a855-29bd82d925f5",
   "metadata": {},
   "outputs": [],
   "source": []
  }
 ],
 "metadata": {
  "kernelspec": {
   "display_name": "Python 3 (ipykernel)",
   "language": "python",
   "name": "python3"
  },
  "language_info": {
   "codemirror_mode": {
    "name": "ipython",
    "version": 3
   },
   "file_extension": ".py",
   "mimetype": "text/x-python",
   "name": "python",
   "nbconvert_exporter": "python",
   "pygments_lexer": "ipython3",
   "version": "3.13.5"
  }
 },
 "nbformat": 4,
 "nbformat_minor": 5
}
